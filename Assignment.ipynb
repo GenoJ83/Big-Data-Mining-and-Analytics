{
 "cells": [
  {
   "cell_type": "code",
   "execution_count": 82,
   "id": "c0c1f352",
   "metadata": {},
   "outputs": [],
   "source": [
    "import pandas as pd\n",
    "import numpy as np\n",
    "import matplotlib.pyplot as plt\n",
    "import seaborn as sns\n",
    "import scipy as sp"
   ]
  },
  {
   "cell_type": "code",
   "execution_count": null,
   "id": "d25365fd",
   "metadata": {},
   "outputs": [],
   "source": [
    "df= pd.read_excel(\"Bike_Sales.xlsx\")\n",
    "df.head()"
   ]
  },
  {
   "cell_type": "code",
   "execution_count": null,
   "id": "653f1534",
   "metadata": {},
   "outputs": [],
   "source": [
    "#Continous vs Continous variables\n",
    "\n",
    "\n",
    "plt.figure(figsize=(8,6))\n",
    "sns.scatterplot(data=df, x='Customer_Age', y='Revenue')\n",
    "plt.title('Scatterplot of Customer Age vs Revenue')\n",
    "plt.xlabel('Customer Age')\n",
    "plt.ylabel('Revenue')\n",
    "plt.show()\n"
   ]
  },
  {
   "cell_type": "code",
   "execution_count": null,
   "id": "5d818ca2",
   "metadata": {},
   "outputs": [],
   "source": [
    "#Spearman correlation between Customer_Age and Revenue\n",
    "spearman_corr = df['Customer_Age'].corr(df['Revenue'], method='spearman')\n",
    "print(f\"Spearman correlation between customer_age and revenue: {spearman_corr:.3f}\")\n"
   ]
  },
  {
   "cell_type": "code",
   "execution_count": 21,
   "id": "45952e77",
   "metadata": {},
   "outputs": [
    {
     "ename": "NameError",
     "evalue": "name 'df' is not defined",
     "output_type": "error",
     "traceback": [
      "\u001b[31m---------------------------------------------------------------------------\u001b[39m",
      "\u001b[31mNameError\u001b[39m                                 Traceback (most recent call last)",
      "\u001b[36mCell\u001b[39m\u001b[36m \u001b[39m\u001b[32mIn[21]\u001b[39m\u001b[32m, line 2\u001b[39m\n\u001b[32m      1\u001b[39m \u001b[38;5;66;03m#correlation matrix for Customer_Age and Revenue\u001b[39;00m\n\u001b[32m----> \u001b[39m\u001b[32m2\u001b[39m corr_matrix = \u001b[43mdf\u001b[49m[[\u001b[33m'\u001b[39m\u001b[33mCustomer_Age\u001b[39m\u001b[33m'\u001b[39m, \u001b[33m'\u001b[39m\u001b[33mRevenue\u001b[39m\u001b[33m'\u001b[39m]].corr(method=\u001b[33m'\u001b[39m\u001b[33mspearman\u001b[39m\u001b[33m'\u001b[39m)\n\u001b[32m      3\u001b[39m \u001b[38;5;28mprint\u001b[39m(corr_matrix)\n",
      "\u001b[31mNameError\u001b[39m: name 'df' is not defined"
     ]
    }
   ],
   "source": [
    "#correlation matrix for Customer_Age and Revenue\n",
    "corr_matrix = df[['Customer_Age', 'Revenue']].corr(method='spearman')\n",
    "print(corr_matrix)\n"
   ]
  },
  {
   "cell_type": "code",
   "execution_count": null,
   "id": "7ce72be2",
   "metadata": {},
   "outputs": [],
   "source": [
    "#Categorical vs Categorical\n",
    "#Bar plot for Age_Group by Country\n",
    "\n",
    "plt.figure(figsize=(10,6))\n",
    "sns.countplot(data=df, x='Age_Group', hue='Country')\n",
    "plt.title('Bar Plot of Age Group by Country')\n",
    "plt.xlabel('Age Group')\n",
    "plt.ylabel('Count')\n",
    "plt.legend(title='Country')\n",
    "plt.show()\n",
    "\n"
   ]
  },
  {
   "cell_type": "code",
   "execution_count": null,
   "id": "ee9b147d",
   "metadata": {},
   "outputs": [],
   "source": [
    "# Categorical vs Categorical: Chi-square test for Age_Group and Country\n",
    "from scipy.stats import chi2_contingency\n",
    "\n",
    "contingency_table = pd.crosstab(df['Age_Group'], df['Country'])\n",
    "chi2, p, dof, expected = chi2_contingency(contingency_table)\n",
    "print(\"Chi-square test between Age_Group and State:\")\n",
    "print(f\"Chi2 statistic: {chi2:.3f}, p-value: {p:.3f}\")"
   ]
  },
  {
   "cell_type": "code",
   "execution_count": null,
   "id": "bf0c688f",
   "metadata": {},
   "outputs": [],
   "source": [
    "#Categorical vs Continous\n",
    "\n",
    "plt.figure(figsize=(10,6))\n",
    "sns.boxplot(data=df, x='Country', y='Revenue')\n",
    "plt.title('Box Plot of Revenue by Country')\n",
    "plt.xlabel('Country')\n",
    "plt.ylabel('Revenue')\n",
    "plt.show()\n"
   ]
  },
  {
   "cell_type": "code",
   "execution_count": null,
   "id": "a5dafa40",
   "metadata": {},
   "outputs": [],
   "source": [
    "# Categorical vs Continuous: ANOVA test for Revenue by Country\n",
    "from scipy.stats import f_oneway\n",
    "\n",
    "groups = [df[df['Country'] == country]['Revenue'] for country in df['Country'].unique()]\n",
    "anova_result = f_oneway(*groups)\n",
    "print(\"ANOVA test for Revenue across Country groups:\")\n",
    "print(f\"F-statistic: {anova_result.statistic:.3f}, p-value: {anova_result.pvalue:.3f}\")"
   ]
  }
 ],
 "metadata": {
  "kernelspec": {
   "display_name": "ML",
   "language": "python",
   "name": "python3"
  },
  "language_info": {
   "codemirror_mode": {
    "name": "ipython",
    "version": 3
   },
   "file_extension": ".py",
   "mimetype": "text/x-python",
   "name": "python",
   "nbconvert_exporter": "python",
   "pygments_lexer": "ipython3",
   "version": "3.13.7"
  }
 },
 "nbformat": 4,
 "nbformat_minor": 5
}
